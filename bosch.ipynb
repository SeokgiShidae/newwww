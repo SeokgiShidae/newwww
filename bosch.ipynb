version https://git-lfs.github.com/spec/v1
oid sha256:4b96b1462c2cf5fc8d291e5ac9fec8a01dd764f7c4149f57f41d48a7e0fa2855
size 8181
