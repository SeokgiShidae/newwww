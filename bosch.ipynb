version https://git-lfs.github.com/spec/v1
oid sha256:6241ce2e70e1f8578dad4902bf675dc1b9aaec8a05355ba0a06e59b750eec9e9
size 7577
